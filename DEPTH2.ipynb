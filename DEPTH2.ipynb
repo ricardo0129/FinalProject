{
 "cells": [
  {
   "cell_type": "code",
   "execution_count": 19,
   "id": "27c71172",
   "metadata": {},
   "outputs": [],
   "source": [
    "import pandas as pd\n",
    "import numpy as np\n",
    "import math"
   ]
  },
  {
   "cell_type": "code",
   "execution_count": 2,
   "id": "d4685a6f",
   "metadata": {},
   "outputs": [],
   "source": [
    "def depth2(data):\n",
    "    #input is a pandas data frame with gene expression values\n",
    "    dt = data.T\n",
    "    result = dt.apply(lambda col: (col-col.mean())/col.std())\n",
    "    result = result.replace(np.nan,0)\n",
    "    result = result.apply(lambda col: abs(col)).T\n",
    "    return result.std()"
   ]
  },
  {
   "cell_type": "code",
   "execution_count": 3,
   "id": "b7aa450b",
   "metadata": {},
   "outputs": [],
   "source": [
    "# Returns the gene expression matrices\n",
    "\n",
    "# This only works for data where the normal samples are part of the GDC data; if the normal samples come from another \n",
    "# source they must be gathered separately \n",
    "\n",
    "def get_expression_matrix(sample_sheet, data_type, data_directory):\n",
    "    overall_df = None\n",
    "    for i, row in sample_sheet.iterrows():\n",
    "        sample_subdir = row[\"File ID\"]\n",
    "        sample_filename = row[\"File Name\"]\n",
    "        patient_id = row[\"Sample ID\"]\n",
    "\n",
    "        filename = f\"{data_directory}/{sample_subdir}/{sample_filename}\"\n",
    "\n",
    "        sample_df = pd.read_csv(filename, sep='\\t',skiprows=[0])\n",
    "    \n",
    "        sample_df = sample_df[ (sample_df['gene_type'] == 'protein_coding')] \n",
    "\n",
    "        if overall_df is None:\n",
    "            overall_df = sample_df[[\"gene_name\"]]\n",
    "\n",
    "        sample_df = sample_df[[data_type]]\n",
    "    \n",
    "        sample_df.columns = [patient_id]\n",
    "\n",
    "        duplicated_cols = set(overall_df.columns) & set(sample_df.columns)\n",
    "\n",
    "        sample_df = sample_df.drop(columns=duplicated_cols)\n",
    "\n",
    "        overall_df = overall_df.join(sample_df) # TODO investigate duplicate sample IDs\n",
    "\n",
    "    return overall_df    \n",
    "\n",
    "def get_expression_matrices(sample_sheet_path, expression_directory):\n",
    "    sample_sheet = pd.read_csv(sample_sheet_path, sep=\"\\t\") \n",
    "\n",
    "    sample_sheet_tumors = sample_sheet[sample_sheet[\"Sample Type\"] == \"Primary Tumor\"]\n",
    "    sample_sheet_normals = sample_sheet[sample_sheet[\"Sample Type\"] == \"Solid Tissue Normal\"]\n",
    "\n",
    "    tumor_tpm = get_expression_matrix(sample_sheet_tumors, \"tpm_unstranded\", expression_directory)\n",
    "    normal_tpm = get_expression_matrix(sample_sheet_normals, \"tpm_unstranded\", expression_directory)\n",
    "\n",
    "    tumor_fpkm = get_expression_matrix(sample_sheet_tumors, \"fpkm_unstranded\", expression_directory)\n",
    "    normal_fpkm = get_expression_matrix(sample_sheet_normals, \"fpkm_unstranded\", expression_directory)\n",
    "\n",
    "    tumor_fpkm_uq = get_expression_matrix(sample_sheet_tumors, \"fpkm_uq_unstranded\", expression_directory)\n",
    "    normal_fpkm_uq = get_expression_matrix(sample_sheet_normals, \"fpkm_uq_unstranded\", expression_directory)\n",
    "\n",
    "    return ((tumor_tpm, normal_tpm), (tumor_fpkm, normal_fpkm), (tumor_fpkm_uq, normal_fpkm_uq))\n",
    "\n",
    "import numpy as np  \n",
    "\n",
    "def log2_normalize(expression_dataframe):\n",
    "    expression_dataframe.iloc[:, 1:] = expression_dataframe.iloc[:, 1:].applymap(lambda x: 1 + np.log2(x) if x != 0 else 0)    "
   ]
  },
  {
   "cell_type": "code",
   "execution_count": 4,
   "id": "cc78b555",
   "metadata": {},
   "outputs": [],
   "source": [
    "# normalize the data according to the paper, by adding 1 to each value and taking log2:\n",
    "\n",
    "data = get_expression_matrices(\"./blca/gdc_sample_sheet.2023-04-10.tsv\", \"./blca/gdc_download_20230410_180831.520234\") \n",
    "\n",
    "blca_tpm_tumor = data[0][0]\n",
    "blca_tpm_normal = data[0][1]\n",
    "\n",
    "blca_fpkm_tumor = data[1][0]\n",
    "blca_fpkm_normal = data[1][1]\n",
    "\n",
    "blca_fpkm_uq_tumor = data[2][0]\n",
    "blca_fpkm_uq_normal = data[2][1]\n",
    "\n",
    "log2_normalize(blca_tpm_tumor)\n",
    "log2_normalize(blca_tpm_normal)\n",
    "log2_normalize(blca_fpkm_tumor)\n",
    "log2_normalize(blca_fpkm_normal)\n",
    "log2_normalize(blca_fpkm_uq_tumor)\n",
    "log2_normalize(blca_fpkm_uq_normal)\n",
    "\n",
    "\n",
    "blca_tpm_tumor_depths = depth2(blca_tpm_tumor.drop(labels=[\"gene_name\"], axis=1))\n",
    "blca_tpm_normal_depths = depth2(blca_tpm_normal.drop(labels=[\"gene_name\"], axis=1))\n",
    "\n",
    "blca_fpkm_tumor_depths = depth2(blca_fpkm_tumor.drop(labels=[\"gene_name\"], axis=1))\n",
    "blca_fpkm_normal_depths = depth2(blca_fpkm_normal.drop(labels=[\"gene_name\"], axis=1))\n",
    "\n",
    "blca_fpkm_uq_tumor_depths = depth2(blca_fpkm_uq_tumor.drop(labels=[\"gene_name\"], axis=1))\n",
    "blca_fpkm_uq_normal_depths = depth2(blca_fpkm_uq_normal.drop(labels=[\"gene_name\"], axis=1))"
   ]
  },
  {
   "cell_type": "code",
   "execution_count": 2,
   "id": "bdf0eb39",
   "metadata": {},
   "outputs": [
    {
     "ename": "NameError",
     "evalue": "name 'get_expression_matrices' is not defined",
     "output_type": "error",
     "traceback": [
      "\u001b[0;31m---------------------------------------------------------------------------\u001b[0m",
      "\u001b[0;31mNameError\u001b[0m                                 Traceback (most recent call last)",
      "\u001b[0;32m/var/folders/r2/t7r__f0x0jgghdm5bzhlm7m80000gn/T/ipykernel_15459/3921677814.py\u001b[0m in \u001b[0;36m<module>\u001b[0;34m\u001b[0m\n\u001b[1;32m      1\u001b[0m \u001b[0;31m# now do the same for KIRP:\u001b[0m\u001b[0;34m\u001b[0m\u001b[0;34m\u001b[0m\u001b[0m\n\u001b[1;32m      2\u001b[0m \u001b[0;34m\u001b[0m\u001b[0m\n\u001b[0;32m----> 3\u001b[0;31m \u001b[0mdata\u001b[0m \u001b[0;34m=\u001b[0m \u001b[0mget_expression_matrices\u001b[0m\u001b[0;34m(\u001b[0m\u001b[0;34m\"./kirp/gdc_sample_sheet.2023-04-11.tsv\"\u001b[0m\u001b[0;34m,\u001b[0m \u001b[0;34m\"./kirp/gdc_download_20230411_043336.940718\"\u001b[0m\u001b[0;34m)\u001b[0m\u001b[0;34m\u001b[0m\u001b[0;34m\u001b[0m\u001b[0m\n\u001b[0m\u001b[1;32m      4\u001b[0m \u001b[0;34m\u001b[0m\u001b[0m\n\u001b[1;32m      5\u001b[0m \u001b[0mkirp_tpm_tumor\u001b[0m \u001b[0;34m=\u001b[0m \u001b[0mdata\u001b[0m\u001b[0;34m[\u001b[0m\u001b[0;36m0\u001b[0m\u001b[0;34m]\u001b[0m\u001b[0;34m[\u001b[0m\u001b[0;36m0\u001b[0m\u001b[0;34m]\u001b[0m\u001b[0;34m\u001b[0m\u001b[0;34m\u001b[0m\u001b[0m\n",
      "\u001b[0;31mNameError\u001b[0m: name 'get_expression_matrices' is not defined"
     ]
    }
   ],
   "source": [
    "# now do the same for KIRP:\n",
    "\n",
    "data = get_expression_matrices(\"./kirp/gdc_sample_sheet.2023-04-11.tsv\", \"./kirp/gdc_download_20230411_043336.940718\") \n",
    "\n",
    "kirp_tpm_tumor = data[0][0]\n",
    "kirp_tpm_normal = data[0][1]\n",
    "\n",
    "kirp_fpkm_tumor = data[1][0]\n",
    "kirp_fpkm_normal = data[1][1]\n",
    "\n",
    "kirp_fpkm_uq_tumor = data[2][0]\n",
    "kirp_fpkm_uq_normal = data[2][1]\n",
    "\n",
    "log2_normalize(kirp_tpm_tumor)\n",
    "log2_normalize(kirp_tpm_normal)\n",
    "log2_normalize(kirp_fpkm_tumor)\n",
    "log2_normalize(kirp_fpkm_normal)\n",
    "log2_normalize(kirp_fpkm_uq_tumor)\n",
    "log2_normalize(kirp_fpkm_uq_normal)\n",
    "\n",
    "\n",
    "kirp_tpm_tumor_depths = depth2(kirp_tpm_tumor.drop(labels=[\"gene_name\"], axis=1))\n",
    "kirp_tpm_normal_depths = depth2(kirp_tpm_normal.drop(labels=[\"gene_name\"], axis=1))\n",
    "\n",
    "kirp_fpkm_tumor_depths = depth2(kirp_fpkm_tumor.drop(labels=[\"gene_name\"], axis=1))\n",
    "kirp_fpkm_normal_depths = depth2(kirp_fpkm_normal.drop(labels=[\"gene_name\"], axis=1))\n",
    "\n",
    "kirp_fpkm_uq_tumor_depths = depth2(kirp_fpkm_uq_tumor.drop(labels=[\"gene_name\"], axis=1))\n",
    "kirp_fpkm_uq_normal_depths = depth2(kirp_fpkm_uq_normal.drop(labels=[\"gene_name\"], axis=1))"
   ]
  },
  {
   "cell_type": "code",
   "execution_count": 141,
   "id": "0fecb632",
   "metadata": {},
   "outputs": [
    {
     "data": {
      "text/plain": [
       "0.5768873859662587"
      ]
     },
     "execution_count": 141,
     "metadata": {},
     "output_type": "execute_result"
    }
   ],
   "source": [
    "kirp_tpm_tumor_depths.median()"
   ]
  },
  {
   "cell_type": "code",
   "execution_count": 142,
   "id": "f8a63df7",
   "metadata": {},
   "outputs": [
    {
     "data": {
      "text/plain": [
       "0.5380296575858463"
      ]
     },
     "execution_count": 142,
     "metadata": {},
     "output_type": "execute_result"
    }
   ],
   "source": [
    "kirp_tpm_normal_depths.median()"
   ]
  },
  {
   "cell_type": "code",
   "execution_count": 143,
   "id": "596f5b46",
   "metadata": {},
   "outputs": [
    {
     "data": {
      "text/plain": [
       "0.5904151100906823"
      ]
     },
     "execution_count": 143,
     "metadata": {},
     "output_type": "execute_result"
    }
   ],
   "source": [
    "kirp_fpkm_tumor_depths.median()"
   ]
  },
  {
   "cell_type": "code",
   "execution_count": 144,
   "id": "6563c86c",
   "metadata": {},
   "outputs": [
    {
     "data": {
      "text/plain": [
       "0.5557451822261723"
      ]
     },
     "execution_count": 144,
     "metadata": {},
     "output_type": "execute_result"
    }
   ],
   "source": [
    "kirp_fpkm_normal_depths.median()"
   ]
  },
  {
   "cell_type": "code",
   "execution_count": 146,
   "id": "59982e3a",
   "metadata": {},
   "outputs": [
    {
     "data": {
      "text/plain": [
       "0.5959196348131939"
      ]
     },
     "execution_count": 146,
     "metadata": {},
     "output_type": "execute_result"
    }
   ],
   "source": [
    "kirp_fpkm_uq_tumor_depths.median()"
   ]
  },
  {
   "cell_type": "code",
   "execution_count": 145,
   "id": "5d64ba14",
   "metadata": {},
   "outputs": [
    {
     "data": {
      "text/plain": [
       "0.5628664624556977"
      ]
     },
     "execution_count": 145,
     "metadata": {},
     "output_type": "execute_result"
    }
   ],
   "source": [
    "kirp_fpkm_uq_normal_depths.median()"
   ]
  },
  {
   "cell_type": "code",
   "execution_count": 128,
   "id": "6d9f8fb9",
   "metadata": {},
   "outputs": [
    {
     "data": {
      "text/plain": [
       "0.6025750510041255"
      ]
     },
     "execution_count": 128,
     "metadata": {},
     "output_type": "execute_result"
    }
   ],
   "source": [
    "blca_fpkm_uq_tumor_depths.median()"
   ]
  },
  {
   "cell_type": "code",
   "execution_count": 129,
   "id": "55835447",
   "metadata": {},
   "outputs": [
    {
     "data": {
      "text/plain": [
       "0.5611960140527479"
      ]
     },
     "execution_count": 129,
     "metadata": {},
     "output_type": "execute_result"
    }
   ],
   "source": [
    "blca_fpkm_uq_normal_depths.median()"
   ]
  },
  {
   "cell_type": "code",
   "execution_count": 130,
   "id": "a547a47c",
   "metadata": {},
   "outputs": [
    {
     "data": {
      "text/plain": [
       "0.6020565732827807"
      ]
     },
     "execution_count": 130,
     "metadata": {},
     "output_type": "execute_result"
    }
   ],
   "source": [
    "blca_fpkm_tumor_depths.median()"
   ]
  },
  {
   "cell_type": "code",
   "execution_count": 131,
   "id": "2b88915c",
   "metadata": {},
   "outputs": [
    {
     "data": {
      "text/plain": [
       "0.5532213059639145"
      ]
     },
     "execution_count": 131,
     "metadata": {},
     "output_type": "execute_result"
    }
   ],
   "source": [
    "blca_fpkm_normal_depths.median()"
   ]
  },
  {
   "cell_type": "code",
   "execution_count": 132,
   "id": "86056e87",
   "metadata": {},
   "outputs": [
    {
     "data": {
      "text/plain": [
       "0.5931552998917898"
      ]
     },
     "execution_count": 132,
     "metadata": {},
     "output_type": "execute_result"
    }
   ],
   "source": [
    "blca_tpm_tumor_depths.median()"
   ]
  },
  {
   "cell_type": "code",
   "execution_count": 133,
   "id": "140629b0",
   "metadata": {},
   "outputs": [
    {
     "data": {
      "text/plain": [
       "0.5498523249358989"
      ]
     },
     "execution_count": 133,
     "metadata": {},
     "output_type": "execute_result"
    }
   ],
   "source": [
    "blca_tpm_normal_depths.median()"
   ]
  },
  {
   "cell_type": "code",
   "execution_count": 158,
   "id": "637fc923",
   "metadata": {},
   "outputs": [
    {
     "data": {
      "image/png": "[encoded data removed]",
      "text/plain": [
       "<Figure size 640x480 with 1 Axes>"
      ]
     },
     "metadata": {},
     "output_type": "display_data"
    }
   ],
   "source": [
    "import matplotlib.pyplot as plt\n",
    "\n",
    "# Data\n",
    "x = [blca_tpm_tumor_depths.median(), blca_fpkm_tumor_depths.median(), blca_fpkm_uq_tumor_depths.median()]\n",
    "y = [blca_tpm_normal_depths.median(), blca_fpkm_normal_depths.median(), blca_fpkm_uq_normal_depths.median()]\n",
    "\n",
    "# Plotting\n",
    "fig, ax = plt.subplots()\n",
    "\n",
    "ax.plot([x[0], y[0]], '-o', label='TPM')\n",
    "ax.plot([x[1], y[1]], '-o', label='FPKM')\n",
    "ax.plot([x[2], y[2]], '-o', label='FPKM_UQ')\n",
    "\n",
    "ax.set_xticks([0, 1])\n",
    "ax.set_xticklabels(['Tumor', 'Normal'])\n",
    "ax.set_ylim(0.53, 0.61)\n",
    "ax.set_ylabel('DEPTH2 score')\n",
    "ax.set_title('BLCA DEPTH2 scores')\n",
    "ax.legend()\n",
    "plt.show()"
   ]
  },
  {
   "cell_type": "code",
   "execution_count": 159,
   "id": "0f81ad57",
   "metadata": {},
   "outputs": [
    {
     "data": {
      "image/png": "[encoded data removed]",
      "text/plain": [
       "<Figure size 640x480 with 1 Axes>"
      ]
     },
     "metadata": {},
     "output_type": "display_data"
    }
   ],
   "source": [
    "import matplotlib.pyplot as plt\n",
    "\n",
    "# Data\n",
    "x = [kirp_tpm_tumor_depths.median(), kirp_fpkm_tumor_depths.median(), kirp_fpkm_uq_tumor_depths.median()]\n",
    "y = [kirp_tpm_normal_depths.median(), kirp_fpkm_normal_depths.median(), kirp_fpkm_uq_normal_depths.median()]\n",
    "\n",
    "# Plotting\n",
    "fig, ax = plt.subplots()\n",
    "\n",
    "ax.plot([x[0], y[0]], '-o', label='TPM')\n",
    "ax.plot([x[1], y[1]], '-o', label='FPKM')\n",
    "ax.plot([x[2], y[2]], '-o', label='FPKM_UQ')\n",
    "\n",
    "ax.set_xticks([0, 1])\n",
    "ax.set_xticklabels(['Tumor', 'Normal'])\n",
    "ax.set_ylim(0.53, 0.61)\n",
    "ax.set_ylabel('DEPTH2 score')\n",
    "ax.set_title('KIRP DEPTH2 scores')\n",
    "ax.legend()\n",
    "plt.show()"
   ]
  },
  {
   "cell_type": "code",
   "execution_count": 31,
   "id": "f0845294",
   "metadata": {},
   "outputs": [
    {
     "data": {
      "text/html": [
       "<div>\n",
       "<style scoped>\n",
       "    .dataframe tbody tr th:only-of-type {\n",
       "        vertical-align: middle;\n",
       "    }\n",
       "\n",
       "    .dataframe tbody tr th {\n",
       "        vertical-align: top;\n",
       "    }\n",
       "\n",
       "    .dataframe thead th {\n",
       "        text-align: right;\n",
       "    }\n",
       "</style>\n",
       "<table border=\"1\" class=\"dataframe\">\n",
       "  <thead>\n",
       "    <tr style=\"text-align: right;\">\n",
       "      <th></th>\n",
       "      <th>TCGA-OR-A5K0-01A-11R-A29S-07</th>\n",
       "      <th>TCGA-OR-A5L6-01A-11R-A29S-07</th>\n",
       "      <th>TCGA-OR-A5LT-01A-11R-A29S-07</th>\n",
       "      <th>TCGA-OR-A5JZ-01A-11R-A29S-07</th>\n",
       "      <th>TCGA-OR-A5JK-01A-11R-A29S-07</th>\n",
       "      <th>TCGA-OR-A5JT-01A-11R-A29S-07</th>\n",
       "    </tr>\n",
       "  </thead>\n",
       "  <tbody>\n",
       "    <tr>\n",
       "      <th>0</th>\n",
       "      <td>0.59041</td>\n",
       "      <td>0.513655</td>\n",
       "      <td>0.532037</td>\n",
       "      <td>0.489822</td>\n",
       "      <td>0.582022</td>\n",
       "      <td>0.468522</td>\n",
       "    </tr>\n",
       "  </tbody>\n",
       "</table>\n",
       "</div>"
      ],
      "text/plain": [
       "   TCGA-OR-A5K0-01A-11R-A29S-07  TCGA-OR-A5L6-01A-11R-A29S-07  \\\n",
       "0                       0.59041                      0.513655   \n",
       "\n",
       "   TCGA-OR-A5LT-01A-11R-A29S-07  TCGA-OR-A5JZ-01A-11R-A29S-07  \\\n",
       "0                      0.532037                      0.489822   \n",
       "\n",
       "   TCGA-OR-A5JK-01A-11R-A29S-07  TCGA-OR-A5JT-01A-11R-A29S-07  \n",
       "0                      0.582022                      0.468522  "
      ]
     },
     "execution_count": 31,
     "metadata": {},
     "output_type": "execute_result"
    }
   ],
   "source": [
    "import json\n",
    "import pandas as pd\n",
    "\n",
    "def TCGA_GeneExpression(metacart,gdcfolder):\n",
    "    #takes in metacart & gdc folder containing after downloading cart from TCGA website\n",
    "    #returns dataframe of gene expression values and patient ids\n",
    "    f = open(metacart)\n",
    "    data = json.load(f)\n",
    "    df = None\n",
    "    for patient in data:\n",
    "        gene_exp_file = patient['file_id']+\"/\"+patient['file_name']\n",
    "        patient_id = patient['associated_entities'][0]['entity_submitter_id']\n",
    "        dt = pd.read_csv(gdcfolder+gene_exp_file, sep='\\t',skiprows=[0])\n",
    "        dt = dt[(dt['gene_type'] == 'protein_coding')] \n",
    "        if df is None:\n",
    "            df = dt[[\"gene_name\"]]\n",
    "        dt = dt[[\"fpkm_uq_unstranded\"]]\n",
    "        dt.columns = [patient_id]\n",
    "        df = df.join(dt)\n",
    "    df = df.set_index(\"gene_name\")\n",
    "    return df\n",
    "df = TCGA_GeneExpression(\"./metadata.cart.2023-04-13.json\",\"./gdc_download_20230413_230751.424936/\")\n",
    "genes = df.index.values\n",
    "df = depth2(df).to_frame().T\n",
    "df.to_csv('test.csv', index = False)\n",
    "df"
   ]
  },
  {
   "cell_type": "code",
   "execution_count": 59,
   "id": "113a719d",
   "metadata": {},
   "outputs": [
    {
     "data": {
      "text/html": [
       "<div>\n",
       "<style scoped>\n",
       "    .dataframe tbody tr th:only-of-type {\n",
       "        vertical-align: middle;\n",
       "    }\n",
       "\n",
       "    .dataframe tbody tr th {\n",
       "        vertical-align: top;\n",
       "    }\n",
       "\n",
       "    .dataframe thead th {\n",
       "        text-align: right;\n",
       "    }\n",
       "</style>\n",
       "<table border=\"1\" class=\"dataframe\">\n",
       "  <thead>\n",
       "    <tr style=\"text-align: right;\">\n",
       "      <th></th>\n",
       "      <th>symbol</th>\n",
       "      <th>tpm</th>\n",
       "      <th>fpkm</th>\n",
       "    </tr>\n",
       "  </thead>\n",
       "  <tbody>\n",
       "    <tr>\n",
       "      <th>0</th>\n",
       "      <td>ABCC8</td>\n",
       "      <td>0.54</td>\n",
       "      <td>0.15</td>\n",
       "    </tr>\n",
       "    <tr>\n",
       "      <th>1</th>\n",
       "      <td>ABCC9</td>\n",
       "      <td>6.61</td>\n",
       "      <td>1.82</td>\n",
       "    </tr>\n",
       "    <tr>\n",
       "      <th>2</th>\n",
       "      <td>ABCC10</td>\n",
       "      <td>8.94</td>\n",
       "      <td>2.46</td>\n",
       "    </tr>\n",
       "    <tr>\n",
       "      <th>3</th>\n",
       "      <td>ABCC11</td>\n",
       "      <td>2.83</td>\n",
       "      <td>0.78</td>\n",
       "    </tr>\n",
       "    <tr>\n",
       "      <th>4</th>\n",
       "      <td>ABCD1</td>\n",
       "      <td>4.76</td>\n",
       "      <td>1.31</td>\n",
       "    </tr>\n",
       "    <tr>\n",
       "      <th>...</th>\n",
       "      <td>...</td>\n",
       "      <td>...</td>\n",
       "      <td>...</td>\n",
       "    </tr>\n",
       "    <tr>\n",
       "      <th>37182</th>\n",
       "      <td>TCP10L2</td>\n",
       "      <td>0.00</td>\n",
       "      <td>0.00</td>\n",
       "    </tr>\n",
       "    <tr>\n",
       "      <th>37185</th>\n",
       "      <td>TPSD1</td>\n",
       "      <td>0.00</td>\n",
       "      <td>0.00</td>\n",
       "    </tr>\n",
       "    <tr>\n",
       "      <th>37186</th>\n",
       "      <td>TPSG1</td>\n",
       "      <td>0.00</td>\n",
       "      <td>0.00</td>\n",
       "    </tr>\n",
       "    <tr>\n",
       "      <th>37204</th>\n",
       "      <td>TUBB8</td>\n",
       "      <td>0.54</td>\n",
       "      <td>0.15</td>\n",
       "    </tr>\n",
       "    <tr>\n",
       "      <th>37216</th>\n",
       "      <td>TUBB8B</td>\n",
       "      <td>5.41</td>\n",
       "      <td>1.49</td>\n",
       "    </tr>\n",
       "  </tbody>\n",
       "</table>\n",
       "<p>19216 rows × 3 columns</p>\n",
       "</div>"
      ],
      "text/plain": [
       "        symbol   tpm  fpkm\n",
       "0        ABCC8  0.54  0.15\n",
       "1        ABCC9  6.61  1.82\n",
       "2       ABCC10  8.94  2.46\n",
       "3       ABCC11  2.83  0.78\n",
       "4        ABCD1  4.76  1.31\n",
       "...        ...   ...   ...\n",
       "37182  TCP10L2  0.00  0.00\n",
       "37185    TPSD1  0.00  0.00\n",
       "37186    TPSG1  0.00  0.00\n",
       "37204    TUBB8  0.54  0.15\n",
       "37216   TUBB8B  5.41  1.49\n",
       "\n",
       "[19216 rows x 3 columns]"
      ]
     },
     "execution_count": 59,
     "metadata": {},
     "output_type": "execute_result"
    }
   ],
   "source": [
    "def GDSC_CellLine(file,genes):\n",
    "    #input a file from GDSC gene expression values for a cell line and a set of genes to filter out\n",
    "    #output is dataframe of Symbol,tpm,fpkm values\n",
    "    df = pd.read_csv(file)\n",
    "    df = df[df['symbol'].isin(genes)]\n",
    "    df = df[['symbol','tpm','fpkm']]\n",
    "    return df\n",
    "\n",
    "df = GDSC_CellLine('./sw13.csv',genes)\n",
    "df"
   ]
  },
  {
   "cell_type": "code",
   "execution_count": 61,
   "id": "b772b1e4",
   "metadata": {},
   "outputs": [
    {
     "name": "stdout",
     "output_type": "stream",
     "text": [
      "     Cell line        IC50\n",
      "0           DB    0.242220\n",
      "1      CRO-AP2    0.265307\n",
      "2       DOHH-2    0.271546\n",
      "3       SUP-B8    0.331681\n",
      "4     KASUMI-1    0.391456\n",
      "..         ...         ...\n",
      "954    SK-LU-1  117.537604\n",
      "955     EFO-21  138.870369\n",
      "956   COLO-678  173.379605\n",
      "957     SU8686  180.041523\n",
      "958  NCI-H1793  218.612959\n",
      "\n",
      "[959 rows x 2 columns]\n"
     ]
    }
   ],
   "source": [
    "def GDSC_IC50(file):\n",
    "    #input is a file from GDSC that includes cell line name & IC50 values\n",
    "    #returns dataframe with only those two pieces of information\n",
    "    df = pd.read_csv(file)\n",
    "    df = df[['Cell line','IC50']]\n",
    "    return df\n",
    "\n",
    "df = GDSC_IC50(\"./export.csv\")\n",
    "print(df)"
   ]
  },
  {
   "cell_type": "code",
   "execution_count": null,
   "id": "983b40cf",
   "metadata": {},
   "outputs": [],
   "source": [
    "df.to_csv(index=False)"
   ]
  }
 ],
 "metadata": {
  "kernelspec": {
   "display_name": "Python 3 (ipykernel)",
   "language": "python",
   "name": "python3"
  },
  "language_info": {
   "codemirror_mode": {
    "name": "ipython",
    "version": 3
   },
   "file_extension": ".py",
   "mimetype": "text/x-python",
   "name": "python",
   "nbconvert_exporter": "python",
   "pygments_lexer": "ipython3",
   "version": "3.10.10"
  },
  "vscode": {
   "interpreter": {
    "hash": "9e8ba26837ee61c30aa2897c7fc62d900ee17e3d19b3c393a313f4665c81aa4e"
   }
  }
 },
 "nbformat": 4,
 "nbformat_minor": 5
}
